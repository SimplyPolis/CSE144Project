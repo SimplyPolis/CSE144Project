{
  "cells": [
    {
      "cell_type": "code",
      "execution_count": null,
      "id": "initial_id",
      "metadata": {
        "colab": {
          "base_uri": "https://localhost:8080/"
        },
        "collapsed": true,
        "id": "initial_id",
        "outputId": "a1a9b4a9-db75-42b4-b9e7-9d362286f6ef"
      },
      "outputs": [
        {
          "output_type": "stream",
          "name": "stdout",
          "text": [
            "Mounted at /content/drive\n"
          ]
        }
      ],
      "source": [
        "import torch\n",
        "from torch import nn, optim\n",
        "from torchvision import datasets, transforms\n",
        "from torch.utils.data import DataLoader\n",
        "\n",
        "import sys\n",
        "import cv2\n",
        "import os\n",
        "import numpy as np\n",
        "import torch\n",
        "\n",
        "import re\n",
        "\n",
        "\n",
        "from google.colab import drive\n",
        "\n",
        "drive.mount('/content/drive')"
      ]
    },
    {
      "cell_type": "markdown",
      "source": [
        "Function to clear given folder paths (direct parent folders)"
      ],
      "metadata": {
        "id": "HcC2Ynah_Q6o"
      },
      "id": "HcC2Ynah_Q6o"
    },
    {
      "cell_type": "code",
      "execution_count": null,
      "id": "MEjR8qE5fvfb",
      "metadata": {
        "id": "MEjR8qE5fvfb"
      },
      "outputs": [],
      "source": [
        "# Function to clean a folder of bitmap files\n",
        "def clean_folder(folder_path):\n",
        "\n",
        "    if not os.path.exists(folder_path):\n",
        "        print(f\"Folder '{folder_path}' does not exist.\")\n",
        "        return\n",
        "\n",
        "    print(os.listdir(folder_path))\n",
        "    # Iterate through all files in the folder\n",
        "    for filename in os.listdir(folder_path):\n",
        "        file_path = os.path.join(folder_path, filename)\n",
        "        # Check if the file is a bitmap (assuming file extension is '.bmp')\n",
        "        if filename.endswith('.bmp'):\n",
        "            # Delete the bitmap file\n",
        "            os.remove(file_path)\n"
      ]
    },
    {
      "cell_type": "markdown",
      "source": [
        "Function calls to clear generated folders and images."
      ],
      "metadata": {
        "id": "DMvqbPBe_Bwx"
      },
      "id": "DMvqbPBe_Bwx"
    },
    {
      "cell_type": "code",
      "source": [
        "# clean_folder(\"/content/drive/MyDrive/CSE 144 Group 7/archive/Brain_Tumor_Datasets_Classified/test/Glioma\")\n",
        "# clean_folder(\"/content/drive/MyDrive/CSE 144 Group 7/archive/Brain_Tumor_Datasets_Classified/train/Glioma\")\n",
        "\n",
        "# clean_folder(\"/content/drive/MyDrive/CSE 144 Group 7/archive/Brain_Tumor_Datasets_Classified/test/Pituitary_Adenoma\")\n",
        "# clean_folder(\"/content/drive/MyDrive/CSE 144 Group 7/archive/Brain_Tumor_Datasets_Classified/train/Pituitary_Adenoma\")\n",
        "\n",
        "# clean_folder(\"/content/drive/MyDrive/CSE 144 Group 7/archive/Brain_Tumor_Datasets_Classified/test/Meningioma\")\n",
        "# clean_folder(\"/content/drive/MyDrive/CSE 144 Group 7/archive/Brain_Tumor_Datasets_Classified/train/Meningioma\")\n",
        "\n",
        "# clean_folder(\"/content/drive/MyDrive/CSE 144 Group 7/archive/Brain_Tumor_Datasets_Classified/test/Unknown\")\n",
        "# clean_folder(\"/content/drive/MyDrive/CSE 144 Group 7/archive/Brain_Tumor_Datasets_Classified/train/Unknown\")\n",
        "\n",
        "# clean_folder(\"/content/drive/MyDrive/CSE 144 Group 7/archive/Brain_Tumor_Datasets_Classified/test/No\")\n",
        "# clean_folder(\"/content/drive/MyDrive/CSE 144 Group 7/archive/Brain_Tumor_Datasets_Classified/train/No\")"
      ],
      "metadata": {
        "id": "tXAhjYQH-7nz"
      },
      "id": "tXAhjYQH-7nz",
      "execution_count": null,
      "outputs": []
    },
    {
      "cell_type": "markdown",
      "source": [
        "Function to split collected training and testing data into classified seperated folders."
      ],
      "metadata": {
        "id": "Xhm9VYqg_afx"
      },
      "id": "Xhm9VYqg_afx"
    },
    {
      "cell_type": "code",
      "source": [
        "def split_into_classes(input_folder: str, output_folder_parent: str, no: bool = False) -> None:\n",
        "    # Ensure the output folder exists\n",
        "    os.makedirs(output_folder_parent, exist_ok=True)\n",
        "\n",
        "    # List all files in the input folder\n",
        "    jpg_files: list[str] = os.listdir(input_folder)\n",
        "\n",
        "    print(\"all files: \", jpg_files)\n",
        "\n",
        "    # Iterate over each jpg file\n",
        "    for i,jpg_file in enumerate(jpg_files):\n",
        "        # # Make sure it is working\n",
        "        # if i > 5:\n",
        "        #   return\n",
        "\n",
        "        # Check if the file is a jpg image\n",
        "        if jpg_file.lower().endswith('.jpg'):\n",
        "            # Construct the full path to the jpg file\n",
        "            jpg_file: str = os.path.basename(jpg_file)\n",
        "            jpg_file_path: str = os.path.join(input_folder, jpg_file)\n",
        "\n",
        "            # Load image\n",
        "            image = cv2.imread(jpg_file_path)\n",
        "\n",
        "            output_folder: str = output_folder_parent\n",
        "\n",
        "            # Check which class image belongs to, if there is a tumor\n",
        "            if not no:\n",
        "\n",
        "              # Define all tumor types to check for\n",
        "              pattern_Glioma = r'(gl)'\n",
        "              pattern_Pituitary_Adenoma = r'(pi)'\n",
        "              pattern_Meningioma = r'(me)'\n",
        "\n",
        "              # Use patterns to find which type of cancer\n",
        "              found_Glioma = re.search(pattern_Glioma, jpg_file)\n",
        "              found_Pituitary_Adenoma = re.search(pattern_Pituitary_Adenoma, jpg_file)\n",
        "              found_Meningioma = re.search(pattern_Meningioma, jpg_file)\n",
        "\n",
        "              # Select output folder name based on tumor class\n",
        "              if found_Glioma:\n",
        "                output_folder += '/Glioma'\n",
        "              elif found_Pituitary_Adenoma:\n",
        "                output_folder += '/Pituitary_Adenoma'\n",
        "              elif found_Meningioma:\n",
        "                output_folder += '/Meningioma'\n",
        "              else:\n",
        "                output_folder += '/Unknown'\n",
        "\n",
        "            else:\n",
        "              output_folder += '/No'\n",
        "\n",
        "            # Make dir if it does not exist:\n",
        "            if not os.path.exists(output_folder):\n",
        "                os.makedirs(output_folder)\n",
        "\n",
        "            # Construct the output file path\n",
        "            output_file_path = os.path.join(output_folder, jpg_file)\n",
        "\n",
        "            # Check if the file already exists in the output folder\n",
        "            if not os.path.exists(output_file_path):\n",
        "                # Save the image as a jpg file\n",
        "                cv2.imwrite(output_file_path, image)\n"
      ],
      "metadata": {
        "id": "CQ4gAfpAHgHd"
      },
      "id": "CQ4gAfpAHgHd",
      "execution_count": null,
      "outputs": []
    },
    {
      "cell_type": "markdown",
      "source": [
        "Function calls to brain tumor data to make a new data folder with data classified based on tumor type."
      ],
      "metadata": {
        "id": "3S1_j99N_sRr"
      },
      "id": "3S1_j99N_sRr"
    },
    {
      "cell_type": "code",
      "source": [
        "# # Path to the folder containing PNG images to classify\n",
        "# input_folder: str = \"/content/drive/MyDrive/CSE 144 Group 7/archive/Brain_Tumor_Datasets\"\n",
        "\n",
        "# # Path to the parent folder where you want to save the classified images\n",
        "# output_folder: str = \"/content/drive/MyDrive/CSE 144 Group 7/archive/Brain_Tumor_Datasets_Classified\"\n",
        "\n",
        "# # Sort jpg images into class folders for test/no and test/yes folders\n",
        "# split_into_classes(os.path.join(input_folder, \"test/no\"), os.path.join(output_folder, \"test\"), True)\n",
        "# split_into_classes(os.path.join(input_folder, \"test/yes\"), os.path.join(output_folder, \"test\"))\n",
        "\n",
        "# # Sort jpg images into class folders for test/no and test/yes folders\n",
        "# split_into_classes(os.path.join(input_folder, \"train/no\"), os.path.join(output_folder, \"train\"), True)\n",
        "# split_into_classes(os.path.join(input_folder, \"train/yes\"), os.path.join(output_folder, \"train\"))"
      ],
      "metadata": {
        "id": "njfFPhn__pN7"
      },
      "id": "njfFPhn__pN7",
      "execution_count": null,
      "outputs": []
    },
    {
      "cell_type": "markdown",
      "source": [
        "Code block to transport data into datasets and dataloaders."
      ],
      "metadata": {
        "id": "1nQzkHE3AMO1"
      },
      "id": "1nQzkHE3AMO1"
    },
    {
      "cell_type": "code",
      "execution_count": null,
      "id": "A18FGlLJaxD8",
      "metadata": {
        "colab": {
          "base_uri": "https://localhost:8080/"
        },
        "id": "A18FGlLJaxD8",
        "outputId": "fbd037d9-4ec9-4e07-c146-f9ec114de62a"
      },
      "outputs": [
        {
          "output_type": "stream",
          "name": "stdout",
          "text": [
            "6210\n",
            "691\n",
            "1731\n",
            "torch.Size([1, 64, 64])\n",
            "torch.Size([1, 64, 64])\n",
            "torch.Size([1, 64, 64])\n"
          ]
        }
      ],
      "source": [
        "# Path to your image folders\n",
        "data_path_test = \"/content/drive/MyDrive/CSE 144 Group 7/archive/Brain_Tumor_Datasets_Classified/test\"\n",
        "data_path_train = \"/content/drive/MyDrive/CSE 144 Group 7/archive/Brain_Tumor_Datasets_Classified/train\"\n",
        "\n",
        "# Define transformations for training and testing datasets\n",
        "transform = transforms.Compose([\n",
        "    transforms.Grayscale(),\n",
        "    transforms.Resize((64, 64)),     # Resize the image to 64x64\n",
        "    transforms.ToTensor()            # Convert the image to a PyTorch tensor\n",
        "])\n",
        "\n",
        "# Create datasets\n",
        "test_dataset = datasets.ImageFolder(root=data_path_test, transform=transform)\n",
        "train_dataset = datasets.ImageFolder(root=data_path_train, transform=transform)\n",
        "\n",
        "# Split the training data into train and validation sets\n",
        "train_size = int(0.9 * len(train_dataset))  # 90% of the data for training\n",
        "val_size = len(train_dataset) - train_size  # 10% of the data for validation\n",
        "train_dataset, val_dataset = torch.utils.data.random_split(train_dataset, [train_size, val_size])\n",
        "\n",
        "# Create DataLoaders\n",
        "batch_size = 128\n",
        "trainloader = DataLoader(train_dataset, batch_size=batch_size, shuffle=True)\n",
        "valloader = DataLoader(val_dataset, batch_size=batch_size, shuffle=False)\n",
        "testloader = DataLoader(test_dataset, batch_size=batch_size, shuffle=False)\n",
        "\n",
        "\n",
        "# Check the lengths\n",
        "print(len(train_dataset))\n",
        "print(len(val_dataset))\n",
        "print(len(test_dataset))\n",
        "\n",
        "print(train_dataset[0][0].shape)\n",
        "print(val_dataset[0][0].shape)\n",
        "print(test_dataset[0][0].shape)"
      ]
    },
    {
      "cell_type": "markdown",
      "source": [
        "6323\n",
        "703\n",
        "1760\n",
        "torch.Size([1, 64, 64])\n",
        "torch.Size([1, 64, 64])\n",
        "torch.Size([1, 64, 64])"
      ],
      "metadata": {
        "id": "EGXLkURvPq99"
      },
      "id": "EGXLkURvPq99"
    },
    {
      "cell_type": "markdown",
      "source": [
        "Check if cuda is avaliable if so use it"
      ],
      "metadata": {
        "id": "1OokpOnGAjHh"
      },
      "id": "1OokpOnGAjHh"
    },
    {
      "cell_type": "code",
      "execution_count": null,
      "id": "OvYWo3vxBD0o",
      "metadata": {
        "id": "OvYWo3vxBD0o"
      },
      "outputs": [],
      "source": [
        "device = torch.device(\"cuda:0\" if torch.cuda.is_available() else \"cpu\")"
      ]
    },
    {
      "cell_type": "markdown",
      "source": [
        "Function definitions for training and testing data"
      ],
      "metadata": {
        "id": "0vkhF1QOApwx"
      },
      "id": "0vkhF1QOApwx"
    },
    {
      "cell_type": "code",
      "execution_count": null,
      "id": "4XoamqXhAwvu",
      "metadata": {
        "id": "4XoamqXhAwvu"
      },
      "outputs": [],
      "source": [
        "def evaluate_model(model, dataloader, is_test=False):\n",
        "    # Evaluation\n",
        "\n",
        "    # Set model to evaluation mode\n",
        "    model.eval()\n",
        "\n",
        "    with torch.no_grad():\n",
        "        correct = 0\n",
        "        loss = 0\n",
        "\n",
        "        criterion = nn.NLLLoss()  # Use NLLLoss with log_softmax\n",
        "\n",
        "        for data, target in dataloader:\n",
        "            data, target = data.to(device), target.to(device)\n",
        "            target = target.long()  # Ensure target is of type long\n",
        "            outputs = model(data)\n",
        "\n",
        "            loss += criterion(outputs, target).item()\n",
        "\n",
        "            pred = outputs.argmax(dim=1, keepdim=True)  # Get the index of the max log-probability\n",
        "            correct += pred.eq(target.view_as(pred)).sum().item()\n",
        "\n",
        "        loss /= len(dataloader.dataset)\n",
        "        accuracy = 100. * correct / len(dataloader.dataset)\n",
        "        print('\\n{} set: Average loss: {:.4f}, Accuracy: {}/{} ({:.0f}%)\\n'.format(\n",
        "            \"Test\" if is_test else \"Validation\",\n",
        "            loss, correct, len(dataloader.dataset),\n",
        "            accuracy))\n",
        "    # Set model back to training mode\n",
        "    model.train()\n",
        "\n",
        "def train_model(model, num_epochs, criterion, optimizer):\n",
        "    for epoch in range(num_epochs):\n",
        "        model.train()\n",
        "        running_loss = 0.0\n",
        "        for i, (inputs, labels) in enumerate(trainloader, 0):\n",
        "            inputs, labels = inputs.to(device), labels.to(device)\n",
        "            labels = labels.long()  # Ensure labels are of type long\n",
        "\n",
        "            # Zero the parameter gradients\n",
        "            optimizer.zero_grad()\n",
        "\n",
        "            # Forward pass\n",
        "            outputs = model(inputs)\n",
        "\n",
        "            # Compute the loss\n",
        "            loss = criterion(outputs, labels)\n",
        "\n",
        "            # Backward pass and optimize\n",
        "            loss.backward()\n",
        "            optimizer.step()\n",
        "\n",
        "            # Print statistics\n",
        "            running_loss += loss.item()\n",
        "            if i % 10 == 9:    # Print every 10 mini-batches\n",
        "                print('[Epoch %d, Batch %5d] Loss: %.3f' %\n",
        "                      (epoch + 1, i + 1, running_loss / 10))\n",
        "                running_loss = 0.0\n",
        "\n",
        "        # Evaluate the model on the validation set after each epoch\n",
        "        evaluate_model(model, valloader)"
      ]
    },
    {
      "cell_type": "markdown",
      "source": [
        "Definition of the CNN for multi-classification of brain tumors."
      ],
      "metadata": {
        "id": "lzd8aL5iCdho"
      },
      "id": "lzd8aL5iCdho"
    },
    {
      "cell_type": "code",
      "execution_count": null,
      "id": "UrmNhKNFAlat",
      "metadata": {
        "id": "UrmNhKNFAlat"
      },
      "outputs": [],
      "source": [
        "class CNN(nn.Module):\n",
        "    def __init__(self):\n",
        "        super(CNN, self).__init__()\n",
        "        # Define the convolutional layers\n",
        "        self.conv1 = nn.Conv2d(1, 32, kernel_size=3, padding=1)\n",
        "        self.conv2 = nn.Conv2d(32, 64, kernel_size=3, padding=1)\n",
        "        self.conv3 = nn.Conv2d(64, 128, kernel_size=3, padding=1)\n",
        "        self.conv4 = nn.Conv2d(128, 128, kernel_size=3, padding=1)\n",
        "\n",
        "        # Flatten the input\n",
        "        self.flatten = nn.Flatten()\n",
        "\n",
        "        # Define the dense layers\n",
        "        self.fc1 = nn.Linear(128 * 64 * 64, 128)\n",
        "        self.dropout = nn.Dropout(p=0.5)\n",
        "        self.fc2 = nn.Linear(128, 4)\n",
        "\n",
        "    def forward(self, x):\n",
        "        # Apply ReLU activation after the convolutional layers\n",
        "        x = nn.functional.relu(self.conv1(x))\n",
        "        x = nn.functional.relu(self.conv2(x))\n",
        "        x = nn.functional.relu(self.conv3(x))\n",
        "        x = nn.functional.relu(self.conv4(x))\n",
        "\n",
        "        # Flatten the output of the convolutional layers\n",
        "        x = self.flatten(x)\n",
        "\n",
        "        # Apply dense layer 1\n",
        "        x = nn.functional.relu(self.fc1(x))\n",
        "\n",
        "        # Apply the dropout layer\n",
        "        x = self.dropout(x)\n",
        "\n",
        "        # Apply dense layer 2 and log_softmax\n",
        "        x = nn.functional.log_softmax(self.fc2(x), dim=1)  # Apply log_softmax along the appropriate dimension\n",
        "\n",
        "        return x\n"
      ]
    },
    {
      "cell_type": "markdown",
      "source": [
        "Hyper-parameters for calling the CNN model training and testing."
      ],
      "metadata": {
        "id": "PcVUaz-gCi8s"
      },
      "id": "PcVUaz-gCi8s"
    },
    {
      "cell_type": "code",
      "execution_count": null,
      "id": "RNfreqV_hJxs",
      "metadata": {
        "colab": {
          "base_uri": "https://localhost:8080/"
        },
        "id": "RNfreqV_hJxs",
        "outputId": "79d26bf5-2a23-4a04-878f-8ce66541c32d"
      },
      "outputs": [
        {
          "output_type": "stream",
          "name": "stdout",
          "text": [
            "Test Non-Trained Model on Test Set\n",
            "\n",
            "Validation set: Average loss: 0.0112, Accuracy: 318/1731 (18%)\n",
            "\n",
            "Train Model\n",
            "[Epoch 1, Batch    10] Loss: 147.484\n",
            "[Epoch 1, Batch    20] Loss: 1.381\n",
            "[Epoch 1, Batch    30] Loss: 1.374\n",
            "[Epoch 1, Batch    40] Loss: 1.359\n",
            "\n",
            "Validation set: Average loss: 0.0116, Accuracy: 301/691 (44%)\n",
            "\n",
            "[Epoch 2, Batch    10] Loss: 1.334\n",
            "[Epoch 2, Batch    20] Loss: 1.328\n",
            "[Epoch 2, Batch    30] Loss: 1.322\n",
            "[Epoch 2, Batch    40] Loss: 1.324\n",
            "\n",
            "Validation set: Average loss: 0.0114, Accuracy: 301/691 (44%)\n",
            "\n",
            "[Epoch 3, Batch    10] Loss: 1.327\n",
            "[Epoch 3, Batch    20] Loss: 1.319\n",
            "[Epoch 3, Batch    30] Loss: 1.312\n",
            "[Epoch 3, Batch    40] Loss: 1.316\n",
            "\n",
            "Validation set: Average loss: 0.0114, Accuracy: 301/691 (44%)\n",
            "\n",
            "[Epoch 4, Batch    10] Loss: 1.331\n",
            "[Epoch 4, Batch    20] Loss: 1.319\n",
            "[Epoch 4, Batch    30] Loss: 1.306\n",
            "[Epoch 4, Batch    40] Loss: 1.304\n",
            "\n",
            "Validation set: Average loss: 0.0114, Accuracy: 301/691 (44%)\n",
            "\n",
            "[Epoch 5, Batch    10] Loss: 1.327\n",
            "[Epoch 5, Batch    20] Loss: 1.322\n",
            "[Epoch 5, Batch    30] Loss: 1.304\n",
            "[Epoch 5, Batch    40] Loss: 1.311\n",
            "\n",
            "Validation set: Average loss: 0.0114, Accuracy: 301/691 (44%)\n",
            "\n",
            "[Epoch 6, Batch    10] Loss: 1.326\n",
            "[Epoch 6, Batch    20] Loss: 1.320\n",
            "[Epoch 6, Batch    30] Loss: 1.329\n",
            "[Epoch 6, Batch    40] Loss: 1.313\n",
            "\n",
            "Validation set: Average loss: 0.0114, Accuracy: 301/691 (44%)\n",
            "\n",
            "[Epoch 7, Batch    10] Loss: 1.314\n",
            "[Epoch 7, Batch    20] Loss: 1.334\n",
            "[Epoch 7, Batch    30] Loss: 1.312\n",
            "[Epoch 7, Batch    40] Loss: 1.325\n",
            "\n",
            "Validation set: Average loss: 0.0114, Accuracy: 301/691 (44%)\n",
            "\n",
            "[Epoch 8, Batch    10] Loss: 1.297\n",
            "[Epoch 8, Batch    20] Loss: 1.326\n",
            "[Epoch 8, Batch    30] Loss: 1.318\n",
            "[Epoch 8, Batch    40] Loss: 1.335\n",
            "\n",
            "Validation set: Average loss: 0.0114, Accuracy: 301/691 (44%)\n",
            "\n",
            "[Epoch 9, Batch    10] Loss: 1.319\n",
            "[Epoch 9, Batch    20] Loss: 1.322\n",
            "[Epoch 9, Batch    30] Loss: 1.315\n",
            "[Epoch 9, Batch    40] Loss: 1.329\n",
            "\n",
            "Validation set: Average loss: 0.0114, Accuracy: 301/691 (44%)\n",
            "\n",
            "[Epoch 10, Batch    10] Loss: 1.328\n",
            "[Epoch 10, Batch    20] Loss: 1.328\n",
            "[Epoch 10, Batch    30] Loss: 1.326\n",
            "[Epoch 10, Batch    40] Loss: 1.314\n",
            "\n",
            "Validation set: Average loss: 0.0114, Accuracy: 301/691 (44%)\n",
            "\n",
            "Test Trained Model on Test Set\n",
            "\n",
            "Validation set: Average loss: 0.0108, Accuracy: 715/1731 (41%)\n",
            "\n"
          ]
        }
      ],
      "source": [
        "learning_rate = 0.01\n",
        "epochs = 10\n",
        "batch_size = 128\n",
        "\n",
        "model = CNN()\n",
        "model.to(device)\n",
        "\n",
        "criterion = torch.nn.NLLLoss()\n",
        "optimizer = optim.Adam(model.parameters(), lr=learning_rate)\n",
        "\n",
        "print(\"Test Non-Trained Model on Test Set\")\n",
        "evaluate_model(model, testloader, True)\n",
        "print(\"Train Model\")\n",
        "train_model(model, epochs, criterion, optimizer)\n",
        "print(\"Test Trained Model on Test Set\")\n",
        "evaluate_model(model, testloader)"
      ]
    },
    {
      "cell_type": "code",
      "source": [
        "import matplotlib.pyplot as plt\n",
        "\n",
        "# Training and validation metrics\n",
        "train_loss_batches = {\n",
        "    1: [147.484, 1.381, 1.374, 1.359],\n",
        "    2: [1.334, 1.328, 1.322, 1.324],\n",
        "    3: [1.327, 1.319, 1.312, 1.316],\n",
        "    4: [1.331, 1.319, 1.306, 1.304],\n",
        "    5: [1.327, 1.322, 1.304, 1.311],\n",
        "    6: [1.326, 1.320, 1.329, 1.313],\n",
        "    7: [1.314, 1.334, 1.312, 1.325],\n",
        "    8: [1.297, 1.326, 1.318, 1.335],\n",
        "    9: [1.319, 1.322, 1.315, 1.329],\n",
        "    10: [1.328, 1.328, 1.326, 1.314]\n",
        "}\n",
        "\n",
        "val_loss = [0.0116, 0.0114, 0.0114, 0.0114, 0.0114, 0.0114, 0.0114, 0.0114, 0.0114, 0.0114]\n",
        "val_accuracy = [44, 44, 44, 44, 44, 44, 44, 44, 44, 44]\n",
        "\n",
        "epochs = list(train_loss_batches.keys())\n",
        "batches = range(1, 41, 10)\n",
        "\n",
        "# Flatten train loss for plotting\n",
        "train_loss = [loss for epoch in train_loss_batches.values() for loss in epoch]\n",
        "\n",
        "# Create figure for training loss\n",
        "fig1, ax1 = plt.subplots(figsize=(14, 8))\n",
        "ax1.plot(range(1, len(train_loss) + 1), train_loss, label='Training Loss', color='tab:blue')\n",
        "ax1.set_xlabel('Batches')\n",
        "ax1.set_ylabel('Training Loss')\n",
        "ax1.set_title('Training Loss over Time')\n",
        "ax1.grid()\n",
        "ax1.legend()\n",
        "\n",
        "# Create figure for validation metrics\n",
        "fig2, ax2 = plt.subplots(figsize=(14, 8))\n",
        "ax2.plot(epochs, val_loss, label='Validation Loss', color='tab:red')\n",
        "ax2.set_xlabel('Epochs')\n",
        "ax2.set_ylabel('Validation Loss', color='tab:red')\n",
        "ax2.tick_params(axis='y', labelcolor='tab:red')\n",
        "\n",
        "# Create a twin Axes sharing the xaxis\n",
        "ax3 = ax2.twinx()\n",
        "ax3.plot(epochs, val_accuracy, label='Validation Accuracy', color='tab:green', linestyle='dashed')\n",
        "ax3.set_ylabel('Validation Accuracy', color='tab:green')\n",
        "ax3.tick_params(axis='y', labelcolor='tab:green')\n",
        "\n",
        "fig2.legend(loc='upper right', bbox_to_anchor=(0.9, 0.9))\n",
        "\n",
        "plt.title('Validation Loss and Accuracy over Time')\n",
        "plt.grid()\n",
        "\n",
        "# Show plots\n",
        "plt.show()\n"
      ],
      "metadata": {
        "colab": {
          "base_uri": "https://localhost:8080/",
          "height": 1000
        },
        "id": "1Vsnb8Kx-5Z5",
        "outputId": "b761d395-1476-4677-c70f-0efa3ad76ccb"
      },
      "id": "1Vsnb8Kx-5Z5",
      "execution_count": 4,
      "outputs": [
        {
          "output_type": "display_data",
          "data": {
            "text/plain": [
              "<Figure size 1400x800 with 1 Axes>"
            ],
            "image/png": "[encoded data removed]"
          },
          "metadata": {}
        },
        {
          "output_type": "display_data",
          "data": {
            "text/plain": [
              "<Figure size 1400x800 with 2 Axes>"
            ],
            "image/png": "[encoded data removed]"
          },
          "metadata": {}
        }
      ]
    }
  ],
  "metadata": {
    "colab": {
      "provenance": []
    },
    "kernelspec": {
      "display_name": "Python 3",
      "language": "python",
      "name": "python3"
    },
    "language_info": {
      "codemirror_mode": {
        "name": "ipython",
        "version": 2
      },
      "file_extension": ".py",
      "mimetype": "text/x-python",
      "name": "python",
      "nbconvert_exporter": "python",
      "pygments_lexer": "ipython2",
      "version": "2.7.6"
    }
  },
  "nbformat": 4,
  "nbformat_minor": 5
}